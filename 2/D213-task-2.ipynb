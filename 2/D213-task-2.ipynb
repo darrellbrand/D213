{
 "cells": [
  {
   "cell_type": "markdown",
   "id": "3a2feeba-46b8-4f26-b6e8-f04b79cfffc2",
   "metadata": {},
   "source": [
    "### A\n",
    "\n",
    "### 1)\n",
    "    One research question would be:\n",
    "    \n",
    "    Is it possible to train a natural language processing model to evaluate sentiment of user reviews after it has been trained on the IMDB data set?\n",
    "\n",
    "\n",
    "### 2)\n",
    "    The goals of this data analysis are to create a natural language processing neural network that can analyze sentiment of user reviews. We can then predict how a customer feels about our products based on the language used in a product review. Another goal is to evaluate the accuracy of the model.\n",
    "\n",
    "### 3)\n",
    "\n",
    "    One neural network type capable of performing text classification is a long short term memory network or LSTM. They can remember previous inputs which may help them understand the context of the text being analyzed.\n",
    "\n",
    "### B\n",
    "\n",
    "### 1)\n",
    "\n",
    "   ###   Presence and removal of unusual characters.\n",
    "\n",
    "       here we will print out a set of unique special characters found in the data set. We will then remove them from the data set. We will clean the data first by handling missing values and removing duplicate rows.\n",
    "    "
   ]
  },
  {
   "cell_type": "code",
   "execution_count": 1,
   "id": "753d88eb-a199-461d-bfef-a1d41b8122a0",
   "metadata": {},
   "outputs": [
    {
     "name": "stderr",
     "output_type": "stream",
     "text": [
      "/usr/lib/python3/dist-packages/scipy/__init__.py:146: UserWarning: A NumPy version >=1.17.3 and <1.25.0 is required for this version of SciPy (detected version 1.26.4\n",
      "  warnings.warn(f\"A NumPy version >={np_minversion} and <{np_maxversion}\"\n"
     ]
    },
    {
     "name": "stdout",
     "output_type": "stream",
     "text": [
      "{'.', 'å', ']', '+', '%', ':', '[', '/', '\"', ';', '\\x96', '?', 'é', '*', 'ê', ',', '-', '\\x97', \"'\", ')', '(', '$', '&', '!', '#'}\n"
     ]
    }
   ],
   "source": [
    "#import libraries and read in the data from file.\n",
    "import pandas as pd\n",
    "import matplotlib.pyplot as plt\n",
    "import seaborn as sns\n",
    "import numpy as np\n",
    "import re\n",
    "\n",
    "file_path = '/home/dj/skewl/D213/2/sentiment labelled sentences/imdb_labelled.txt'\n",
    "pd.set_option('display.max_columns', None)\n",
    "# Read the data from the CSV file into a DataFrame\n",
    "df1 = pd.read_csv(file_path, delimiter='\\t',header=None, names=['Reviews','Sentiment'])\n",
    "\n",
    "file_path = '/home/dj/skewl/D213/2/sentiment labelled sentences/amazon_cells_labelled.txt'\n",
    "pd.set_option('display.max_columns', None)\n",
    "# Read the data from the CSV file into a DataFrame\n",
    "df2 = pd.read_csv(file_path, delimiter='\\t',header=None, names=['Reviews','Sentiment'])\n",
    "\n",
    "file_path = '/home/dj/skewl/D213/2/sentiment labelled sentences/yelp_labelled.txt'\n",
    "pd.set_option('display.max_columns', None)\n",
    "# Read the data from the CSV file into a DataFrame\n",
    "df3 = pd.read_csv(file_path, delimiter='\\t',header=None, names=['Reviews','Sentiment'])\n",
    "#concatenate files\n",
    "\n",
    "df = pd.concat([df1,df2,df3])\n",
    "\n",
    "#print special characters\n",
    "\n",
    "# Define a regex pattern to detect special characters\n",
    "# This pattern includes punctuation, symbols, whitespace, and non-ASCII characters\n",
    "pattern = re.compile(r\"[^a-zA-Z0-9\\s]\")  # Matches any character not a-z, A-Z, 0-9, or space\n",
    "character_pattern = re.compile(r\"[\\s+[a-zA-Z]\\s+\")\n",
    "space_pattern = re.compile(r\"\\s+\")\n",
    "tag_pattern = re.compile(r\"<[^>]+>\")\n",
    "\n",
    "\n",
    "# Function to find and extract special characters from a given text\n",
    "def extract_special_characters(text):\n",
    "    special_chars = pattern.findall(text)  # Find all special characters\n",
    "    return set(special_chars)  # Return as a set to avoid duplicates\n",
    "special_chars_set = set()\n",
    "# Find and print special characters in the DataFrame\n",
    "for idx, row in df.iterrows():\n",
    "    text = row[\"Reviews\"]\n",
    "    special_chars_set |= extract_special_characters(text)  # Get special characters from the text\n",
    "    if special_chars_set:\n",
    "        row  = re.sub(pattern, \"\", text)\n",
    "        df.loc[idx, \"Reviews\"] = row\n",
    "    \n",
    "print(special_chars_set)"
   ]
  },
  {
   "cell_type": "markdown",
   "id": "9628f99f-e24a-460e-85f0-0e5611e0bc7f",
   "metadata": {},
   "source": [
    "### Handle missing values and check for duplicates."
   ]
  },
  {
   "cell_type": "code",
   "execution_count": 2,
   "id": "0a7fb084-c6ee-465a-9697-0c406ef9c836",
   "metadata": {},
   "outputs": [
    {
     "name": "stdout",
     "output_type": "stream",
     "text": [
      "1081\n",
      "Reviews      0\n",
      "Sentiment    0\n",
      "dtype: int64\n"
     ]
    }
   ],
   "source": [
    "# Find duplicate rows \n",
    "duplicate_rows = df.duplicated().sum()\n",
    "# Print duplicate rows   # found NO duplicate rows here!\n",
    "print(duplicate_rows)\n",
    "df = df.drop_duplicates()\n",
    "# Identify missing values using isna() method\n",
    "missing_values = df.isna().sum()\n",
    "# Print DataFrame with True for missing values and False for non-missing values\n",
    "print(missing_values)\n",
    "\n",
    "# no missing values here!"
   ]
  },
  {
   "cell_type": "markdown",
   "id": "d0169ba3-1f77-4b1b-bed1-20e97cc68b96",
   "metadata": {},
   "source": [
    "### determine vocabulary size.\n",
    "\n",
    "    From the keras tokenizer below we can see the vocabulary size is 2081. This provides us with the number of unique words in the data set."
   ]
  },
  {
   "cell_type": "code",
   "execution_count": 3,
   "id": "cbc25304-94a2-4895-8bf4-353f63a7bbee",
   "metadata": {},
   "outputs": [
    {
     "name": "stderr",
     "output_type": "stream",
     "text": [
      "2024-05-10 19:51:16.416214: I external/local_tsl/tsl/cuda/cudart_stub.cc:32] Could not find cuda drivers on your machine, GPU will not be used.\n",
      "2024-05-10 19:51:16.418898: I external/local_tsl/tsl/cuda/cudart_stub.cc:32] Could not find cuda drivers on your machine, GPU will not be used.\n",
      "2024-05-10 19:51:16.449321: I tensorflow/core/platform/cpu_feature_guard.cc:210] This TensorFlow binary is optimized to use available CPU instructions in performance-critical operations.\n",
      "To enable the following instructions: AVX2 FMA, in other operations, rebuild TensorFlow with the appropriate compiler flags.\n",
      "2024-05-10 19:51:17.089665: W tensorflow/compiler/tf2tensorrt/utils/py_utils.cc:38] TF-TRT Warning: Could not find TensorRT\n"
     ]
    },
    {
     "name": "stdout",
     "output_type": "stream",
     "text": [
      "Vocabulary Size: 2081\n"
     ]
    }
   ],
   "source": [
    "from tensorflow.keras.preprocessing.text import Tokenizer\n",
    "\n",
    "\n",
    "# Initialize the tokenizer with a maximum vocabulary size (optional)\n",
    "tokenizer = Tokenizer(num_words=None, lower=True, oov_token=\"<OOV>\")\n",
    "\n",
    "# Fit the tokenizer on the text data\n",
    "tokenizer.fit_on_texts(df['Reviews'].tolist())\n",
    "\n",
    "# Get the vocabulary size\n",
    "vocabulary_size = len(tokenizer.word_index)  # Get the number of unique words\n",
    "\n",
    "print(\"Vocabulary Size:\", vocabulary_size)"
   ]
  },
  {
   "cell_type": "markdown",
   "id": "85e9bba9-4e0a-49c2-9ca3-7e89b68bbf48",
   "metadata": {},
   "source": [
    "### The proposed embedding length is 8.\n",
    "\n",
    "    This value was determined by taking the fourth root of the vocabulary size. This represents the number of binary vectors representing each word. Since this model is being used for sentiment analysis it may benefit from a higher embedding length. This value can be changed later as a parameter when fitting the model."
   ]
  },
  {
   "cell_type": "code",
   "execution_count": 4,
   "id": "1f9502eb-1849-4cfa-91a1-4cf8d422ef87",
   "metadata": {},
   "outputs": [
    {
     "name": "stdout",
     "output_type": "stream",
     "text": [
      "7\n"
     ]
    }
   ],
   "source": [
    "max_sequence_embedding = int(round(np.sqrt(np.sqrt(vocabulary_size)), 0))\n",
    "print(max_sequence_embedding)"
   ]
  },
  {
   "cell_type": "markdown",
   "id": "3bd0a895-566b-4553-8d97-58d6286e4a3b",
   "metadata": {},
   "source": [
    "### I chose 32 to be the maximum sequence length.\n",
    "\n",
    "    From the code below we can see that the maximum number of words in any review is 32. This is helpful so our model does not truncate any sentences and preserves the input data."
   ]
  },
  {
   "cell_type": "code",
   "execution_count": 5,
   "id": "48a4ac99-eac9-4bc9-a0bb-7bb8d685297c",
   "metadata": {},
   "outputs": [
    {
     "name": "stdout",
     "output_type": "stream",
     "text": [
      "Maximum Sequence Length: 32\n"
     ]
    }
   ],
   "source": [
    "\n",
    "# Calculate the maximum sequence length\n",
    "max_sequence_length = df[\"Reviews\"].apply(lambda x: len(x.split())).max()\n",
    "\n",
    "print(\"Maximum Sequence Length:\", max_sequence_length)"
   ]
  },
  {
   "cell_type": "markdown",
   "id": "78f8c7ba-3797-4688-9af3-99f2f86156be",
   "metadata": {},
   "source": [
    "### 2) \n",
    "\n",
    "    Goals of the tokenization process are separate the text into smaller chunks called tokens. Another goal is to lemmatize the words or reduce them to the root form of the word. Lastly tokenization will pad all the sequences so each sequence is the maximum sequence length.\n",
    "\n",
    "    The library tensorflow.keras.preprocessing.text.Tokenizer will be used for the tokenization of the reviews in the data set. keras.preprocessing.sequence import pad_sequences will be used to add padding to each sequence."
   ]
  },
  {
   "cell_type": "code",
   "execution_count": 6,
   "id": "10df254c-d52d-45e4-b8ac-df372182df8c",
   "metadata": {},
   "outputs": [],
   "source": [
    "from keras.preprocessing.sequence import pad_sequences\n",
    "# Initialize the tokenizer with a maximum vocabulary size (optional)\n",
    "tokenizer = Tokenizer(num_words=None, lower=True, oov_token=\"<OOV>\")\n",
    "\n",
    "# Fit the tokenizer on the text data\n",
    "tokenizer.fit_on_texts(df['Reviews'].tolist())\n",
    "\n",
    "# Tokenize text data\n",
    "sequences = tokenizer.texts_to_sequences(df['Reviews'].tolist())\n",
    "\n",
    "# Apply padding\n",
    "max_sequence_length = 1384  #  maximum sequence length\n",
    "padded_sequences = pad_sequences(sequences, maxlen=max_sequence_length, padding='post')\n"
   ]
  },
  {
   "cell_type": "markdown",
   "id": "0eca6b4e-dedb-448d-9faf-be9ec8d43fa8",
   "metadata": {},
   "source": [
    "### 3)\n",
    "    The padding process will add zeroes to the end of each sequence that does not already contain the maximum number of words which is set to 1384. See below for a single padded sequence."
   ]
  },
  {
   "cell_type": "code",
   "execution_count": 7,
   "id": "323b57cf-a9e8-48b6-bc6f-d2c14668fffe",
   "metadata": {},
   "outputs": [
    {
     "name": "stdout",
     "output_type": "stream",
     "text": [
      "[395 156   9 ...   0   0   0]\n"
     ]
    }
   ],
   "source": [
    "print(padded_sequences[0])"
   ]
  },
  {
   "cell_type": "markdown",
   "id": "8aa73f0e-5f8f-44cc-9d3f-9040660a25b0",
   "metadata": {},
   "source": [
    "### 4)\n",
    "    There will be two categories of sentiment used for this model. The sigmoid function will be used as the activation function for the final dense layer of the network.\n"
   ]
  },
  {
   "cell_type": "raw",
   "id": "0add48e9-c294-41ff-ab73-7c25d95b2a02",
   "metadata": {},
   "source": [
    "### 5)\n",
    "\n",
    "     The data was prepared for analysis by reading the data from three different .csv files and concatenated into one dataframe. Then the data was explored and searched for abnormal or special characters. The special characters were removed. The data was cleaned by handling missing values and duplicate rows. Then the data was tokenized so we can get the vocabulary size. The data was explored for an appropriate maximum sequence length, and then each sequence was padded to that maximum sequence length of 1384. The data was then separated into three sets, training, test, validation. The training and test are first split in half. Then the test set is further split in half for the validation set. This results in 50% for the training, 25% for testing and 25% for validation."
   ]
  },
  {
   "cell_type": "code",
   "execution_count": 8,
   "id": "204509f9-7a3e-43c1-9757-2ba41e8d5b96",
   "metadata": {},
   "outputs": [
    {
     "name": "stdout",
     "output_type": "stream",
     "text": [
      "833\n",
      "417\n",
      "417\n"
     ]
    }
   ],
   "source": [
    "from sklearn.model_selection import train_test_split\n",
    "from sklearn.preprocessing import LabelEncoder\n",
    "# encode labels\n",
    "label_encoder = LabelEncoder()\n",
    "y_encoded = label_encoder.fit_transform(np.array(df['Sentiment']))\n",
    "num_classes = len(label_encoder.classes_)\n",
    "# Split the data into training and temporary sets (50% training, 50% temporary)\n",
    "x_train, x_test, y_train, y_test = train_test_split(padded_sequences, y_encoded, test_size=0.5, random_state=42)\n",
    "\n",
    "# Split the temporary set into testing and validation sets (25% training, 25% validation)\n",
    "x_test, x_val, y_test, y_val = train_test_split(x_test, y_test, test_size=0.5, random_state=42)\n",
    "# write data to file\n",
    "pd.DataFrame(x_train).to_csv(\"x_train.csv\")\n",
    "pd.DataFrame(y_train).to_csv(\"y_train.csv\")\n",
    "\n",
    "pd.DataFrame(x_test).to_csv(\"x_test.csv\")\n",
    "pd.DataFrame(y_test).to_csv(\"y_test.csv\")\n",
    "\n",
    "pd.DataFrame(x_val).to_csv(\"x_val.csv\")\n",
    "pd.DataFrame(y_val).to_csv(\"y_val.csv\")\n",
    "#print length of each set\n",
    "print(len(x_train))\n",
    "print(len(x_test))\n",
    "print(len(x_val))"
   ]
  },
  {
   "cell_type": "markdown",
   "id": "d5a87df4-6e29-4903-a4d8-bacbb2601eb3",
   "metadata": {},
   "source": [
    "### C"
   ]
  },
  {
   "cell_type": "code",
   "execution_count": 9,
   "id": "bf84b163-774c-4637-afc6-5fa12b5e77f1",
   "metadata": {},
   "outputs": [
    {
     "name": "stdout",
     "output_type": "stream",
     "text": [
      "Epoch 1/10\n"
     ]
    },
    {
     "name": "stderr",
     "output_type": "stream",
     "text": [
      "/home/dj/.local/lib/python3.10/site-packages/keras/src/layers/core/embedding.py:90: UserWarning: Argument `input_length` is deprecated. Just remove it.\n",
      "  warnings.warn(\n"
     ]
    },
    {
     "name": "stdout",
     "output_type": "stream",
     "text": [
      "\u001b[1m27/27\u001b[0m \u001b[32m━━━━━━━━━━━━━━━━━━━━\u001b[0m\u001b[37m\u001b[0m \u001b[1m10s\u001b[0m 324ms/step - accuracy: 0.4958 - loss: 0.6940 - val_accuracy: 0.4796 - val_loss: 0.6967\n",
      "Epoch 2/10\n",
      "\u001b[1m27/27\u001b[0m \u001b[32m━━━━━━━━━━━━━━━━━━━━\u001b[0m\u001b[37m\u001b[0m \u001b[1m8s\u001b[0m 314ms/step - accuracy: 0.4930 - loss: 0.6956 - val_accuracy: 0.4796 - val_loss: 0.6943\n",
      "Epoch 3/10\n",
      "\u001b[1m27/27\u001b[0m \u001b[32m━━━━━━━━━━━━━━━━━━━━\u001b[0m\u001b[37m\u001b[0m \u001b[1m8s\u001b[0m 309ms/step - accuracy: 0.5350 - loss: 0.6920 - val_accuracy: 0.4796 - val_loss: 0.6938\n",
      "Epoch 4/10\n",
      "\u001b[1m27/27\u001b[0m \u001b[32m━━━━━━━━━━━━━━━━━━━━\u001b[0m\u001b[37m\u001b[0m \u001b[1m8s\u001b[0m 315ms/step - accuracy: 0.5282 - loss: 0.6925 - val_accuracy: 0.4796 - val_loss: 0.6936\n",
      "Epoch 5/10\n",
      "\u001b[1m27/27\u001b[0m \u001b[32m━━━━━━━━━━━━━━━━━━━━\u001b[0m\u001b[37m\u001b[0m \u001b[1m8s\u001b[0m 308ms/step - accuracy: 0.5111 - loss: 0.6927 - val_accuracy: 0.4796 - val_loss: 0.6956\n",
      "Epoch 6/10\n",
      "\u001b[1m27/27\u001b[0m \u001b[32m━━━━━━━━━━━━━━━━━━━━\u001b[0m\u001b[37m\u001b[0m \u001b[1m8s\u001b[0m 307ms/step - accuracy: 0.5075 - loss: 0.6935 - val_accuracy: 0.4796 - val_loss: 0.6942\n",
      "Epoch 7/10\n",
      "\u001b[1m27/27\u001b[0m \u001b[32m━━━━━━━━━━━━━━━━━━━━\u001b[0m\u001b[37m\u001b[0m \u001b[1m8s\u001b[0m 307ms/step - accuracy: 0.5252 - loss: 0.6921 - val_accuracy: 0.4796 - val_loss: 0.6959\n",
      "Epoch 7: early stopping\n",
      "Restoring model weights from the end of the best epoch: 4.\n",
      "\u001b[1m14/14\u001b[0m \u001b[32m━━━━━━━━━━━━━━━━━━━━\u001b[0m\u001b[37m\u001b[0m \u001b[1m1s\u001b[0m 90ms/step - accuracy: 0.4873 - loss: 0.6935\n",
      "Test Accuracy: 0.5011990666389465\n"
     ]
    }
   ],
   "source": [
    "from keras.models import Sequential\n",
    "from keras.layers import Embedding, LSTM, Dense\n",
    "from tensorflow.keras.preprocessing.text import Tokenizer\n",
    "from tensorflow.keras.utils import to_categorical\n",
    "from tensorflow.keras.callbacks import EarlyStopping\n",
    "# Define the neural network architecture\n",
    "vocab_size = len(tokenizer.word_index) + 1\n",
    "embedding_dim = 8\n",
    "\n",
    "# Define EarlyStopping callback\n",
    "early_stopping = EarlyStopping(monitor='val_loss', patience=3, verbose=1, restore_best_weights=True)\n",
    "\n",
    "\n",
    "model = Sequential()\n",
    "model.add(Embedding(vocab_size, embedding_dim, input_length=max_sequence_length))\n",
    "model.add(LSTM(128))\n",
    "model.add(Dense(num_classes, activation='sigmoid')) # Output layer with sigmoid activation for multi-class classification\n",
    "# Compile the model\n",
    "model.compile(optimizer='adam', loss='categorical_crossentropy', metrics=['accuracy'])\n",
    "\n",
    "# Train the model with validation data\n",
    "y_train_categorical = to_categorical(y_train, num_classes=num_classes)\n",
    "y_val_categorical = to_categorical(y_val, num_classes=num_classes)\n",
    "history = model.fit(x_train, y_train_categorical, epochs=10, batch_size=32, validation_data=(x_val, y_val_categorical),callbacks=[early_stopping])\n",
    "\n",
    "# Evaluate the model on the testing data\n",
    "y_test_categorical = to_categorical(y_test, num_classes=num_classes)\n",
    "loss, accuracy = model.evaluate(x_test, y_test_categorical)\n",
    "print(\"Test Accuracy:\", accuracy)\n"
   ]
  },
  {
   "cell_type": "markdown",
   "id": "bc3c37ad-1a28-4924-a254-c3b159dc3d00",
   "metadata": {},
   "source": [
    "### 1)\n",
    " ### model summary"
   ]
  },
  {
   "cell_type": "code",
   "execution_count": 10,
   "id": "7029e3c7-7ebb-43ff-9989-a89423fa9e93",
   "metadata": {},
   "outputs": [
    {
     "data": {
      "text/html": [
       "<pre style=\"white-space:pre;overflow-x:auto;line-height:normal;font-family:Menlo,'DejaVu Sans Mono',consolas,'Courier New',monospace\"><span style=\"font-weight: bold\">Model: \"sequential\"</span>\n",
       "</pre>\n"
      ],
      "text/plain": [
       "\u001b[1mModel: \"sequential\"\u001b[0m\n"
      ]
     },
     "metadata": {},
     "output_type": "display_data"
    },
    {
     "data": {
      "text/html": [
       "<pre style=\"white-space:pre;overflow-x:auto;line-height:normal;font-family:Menlo,'DejaVu Sans Mono',consolas,'Courier New',monospace\">┏━━━━━━━━━━━━━━━━━━━━━━━━━━━━━━━━━┳━━━━━━━━━━━━━━━━━━━━━━━━┳━━━━━━━━━━━━━━━┓\n",
       "┃<span style=\"font-weight: bold\"> Layer (type)                    </span>┃<span style=\"font-weight: bold\"> Output Shape           </span>┃<span style=\"font-weight: bold\">       Param # </span>┃\n",
       "┡━━━━━━━━━━━━━━━━━━━━━━━━━━━━━━━━━╇━━━━━━━━━━━━━━━━━━━━━━━━╇━━━━━━━━━━━━━━━┩\n",
       "│ embedding (<span style=\"color: #0087ff; text-decoration-color: #0087ff\">Embedding</span>)           │ (<span style=\"color: #00d7ff; text-decoration-color: #00d7ff\">None</span>, <span style=\"color: #00af00; text-decoration-color: #00af00\">1384</span>, <span style=\"color: #00af00; text-decoration-color: #00af00\">8</span>)        │        <span style=\"color: #00af00; text-decoration-color: #00af00\">16,656</span> │\n",
       "├─────────────────────────────────┼────────────────────────┼───────────────┤\n",
       "│ lstm (<span style=\"color: #0087ff; text-decoration-color: #0087ff\">LSTM</span>)                     │ (<span style=\"color: #00d7ff; text-decoration-color: #00d7ff\">None</span>, <span style=\"color: #00af00; text-decoration-color: #00af00\">128</span>)            │        <span style=\"color: #00af00; text-decoration-color: #00af00\">70,144</span> │\n",
       "├─────────────────────────────────┼────────────────────────┼───────────────┤\n",
       "│ dense (<span style=\"color: #0087ff; text-decoration-color: #0087ff\">Dense</span>)                   │ (<span style=\"color: #00d7ff; text-decoration-color: #00d7ff\">None</span>, <span style=\"color: #00af00; text-decoration-color: #00af00\">2</span>)              │           <span style=\"color: #00af00; text-decoration-color: #00af00\">258</span> │\n",
       "└─────────────────────────────────┴────────────────────────┴───────────────┘\n",
       "</pre>\n"
      ],
      "text/plain": [
       "┏━━━━━━━━━━━━━━━━━━━━━━━━━━━━━━━━━┳━━━━━━━━━━━━━━━━━━━━━━━━┳━━━━━━━━━━━━━━━┓\n",
       "┃\u001b[1m \u001b[0m\u001b[1mLayer (type)                   \u001b[0m\u001b[1m \u001b[0m┃\u001b[1m \u001b[0m\u001b[1mOutput Shape          \u001b[0m\u001b[1m \u001b[0m┃\u001b[1m \u001b[0m\u001b[1m      Param #\u001b[0m\u001b[1m \u001b[0m┃\n",
       "┡━━━━━━━━━━━━━━━━━━━━━━━━━━━━━━━━━╇━━━━━━━━━━━━━━━━━━━━━━━━╇━━━━━━━━━━━━━━━┩\n",
       "│ embedding (\u001b[38;5;33mEmbedding\u001b[0m)           │ (\u001b[38;5;45mNone\u001b[0m, \u001b[38;5;34m1384\u001b[0m, \u001b[38;5;34m8\u001b[0m)        │        \u001b[38;5;34m16,656\u001b[0m │\n",
       "├─────────────────────────────────┼────────────────────────┼───────────────┤\n",
       "│ lstm (\u001b[38;5;33mLSTM\u001b[0m)                     │ (\u001b[38;5;45mNone\u001b[0m, \u001b[38;5;34m128\u001b[0m)            │        \u001b[38;5;34m70,144\u001b[0m │\n",
       "├─────────────────────────────────┼────────────────────────┼───────────────┤\n",
       "│ dense (\u001b[38;5;33mDense\u001b[0m)                   │ (\u001b[38;5;45mNone\u001b[0m, \u001b[38;5;34m2\u001b[0m)              │           \u001b[38;5;34m258\u001b[0m │\n",
       "└─────────────────────────────────┴────────────────────────┴───────────────┘\n"
      ]
     },
     "metadata": {},
     "output_type": "display_data"
    },
    {
     "data": {
      "text/html": [
       "<pre style=\"white-space:pre;overflow-x:auto;line-height:normal;font-family:Menlo,'DejaVu Sans Mono',consolas,'Courier New',monospace\"><span style=\"font-weight: bold\"> Total params: </span><span style=\"color: #00af00; text-decoration-color: #00af00\">261,176</span> (1020.22 KB)\n",
       "</pre>\n"
      ],
      "text/plain": [
       "\u001b[1m Total params: \u001b[0m\u001b[38;5;34m261,176\u001b[0m (1020.22 KB)\n"
      ]
     },
     "metadata": {},
     "output_type": "display_data"
    },
    {
     "data": {
      "text/html": [
       "<pre style=\"white-space:pre;overflow-x:auto;line-height:normal;font-family:Menlo,'DejaVu Sans Mono',consolas,'Courier New',monospace\"><span style=\"font-weight: bold\"> Trainable params: </span><span style=\"color: #00af00; text-decoration-color: #00af00\">87,058</span> (340.07 KB)\n",
       "</pre>\n"
      ],
      "text/plain": [
       "\u001b[1m Trainable params: \u001b[0m\u001b[38;5;34m87,058\u001b[0m (340.07 KB)\n"
      ]
     },
     "metadata": {},
     "output_type": "display_data"
    },
    {
     "data": {
      "text/html": [
       "<pre style=\"white-space:pre;overflow-x:auto;line-height:normal;font-family:Menlo,'DejaVu Sans Mono',consolas,'Courier New',monospace\"><span style=\"font-weight: bold\"> Non-trainable params: </span><span style=\"color: #00af00; text-decoration-color: #00af00\">0</span> (0.00 B)\n",
       "</pre>\n"
      ],
      "text/plain": [
       "\u001b[1m Non-trainable params: \u001b[0m\u001b[38;5;34m0\u001b[0m (0.00 B)\n"
      ]
     },
     "metadata": {},
     "output_type": "display_data"
    },
    {
     "data": {
      "text/html": [
       "<pre style=\"white-space:pre;overflow-x:auto;line-height:normal;font-family:Menlo,'DejaVu Sans Mono',consolas,'Courier New',monospace\"><span style=\"font-weight: bold\"> Optimizer params: </span><span style=\"color: #00af00; text-decoration-color: #00af00\">174,118</span> (680.15 KB)\n",
       "</pre>\n"
      ],
      "text/plain": [
       "\u001b[1m Optimizer params: \u001b[0m\u001b[38;5;34m174,118\u001b[0m (680.15 KB)\n"
      ]
     },
     "metadata": {},
     "output_type": "display_data"
    }
   ],
   "source": [
    "model.summary()"
   ]
  },
  {
   "cell_type": "markdown",
   "id": "5e808e50-fc77-46b1-9424-96a3f6ca22fe",
   "metadata": {},
   "source": [
    "### 2)\n",
    "\n",
    "    The number of layers in my model is 3 total. 1 embedding layer, 1 LSTM layer, and 1 dense layers. The embedding layer converts word indices to dense vectors. The LSTM layer processes the sequential input. The dense layers produce the final output. The total numbers of parameters in my model is 261,212.\n",
    "\n",
    "\n",
    "### 3)\n",
    "\n",
    "      The activation function I chose is the sigmoid function. I chose this because it is commonly used in the output layer for binary classification problems which is what sentiment analysis is for this project. The number of nodes for the input layer I chose is the vocab size which is the dimensionality of the input data. The LSTM layer nodes were chosen by experimenting with powers of 2 such as 128, 256, and so forth. Anything over 128 seemed to reduce the model accuracy so I stuck with 128. The number of nodes used for the dense layer is equal to the number of output classes which is two in this case. I used binary cross-entropy for my loss function because it is best suited for binary classification. I used 'adam' for the optimizer function because it combines some benefits of AdaGrad and RMSProp. It is also effective for training many different deep learning models. I used early stopping with a patience of 3 for my stopping criteria. I chose this because it will stop the model from training when the model performance is not improving after 3 epochs which will save time in fitting the model. I chose accuracy as an evaluation metric because it measures the proportion of correctly classified instances in the data set which is important for binary classification.\n",
    "\n",
    "\n",
    "### D)\n",
    "\n",
    "### 1)\n",
    "    Using early stopping with a patience of 3 will stop the model from training after 3 epochs that do not improve the model accuracy. This is helpful because it saves time and can prevent overfitting. See final epoch below.\n"
   ]
  },
  {
   "cell_type": "code",
   "execution_count": 11,
   "id": "609a2794-5cca-4db1-b378-87a60bfe6700",
   "metadata": {},
   "outputs": [
    {
     "name": "stdout",
     "output_type": "stream",
     "text": [
      "Epoch 1/10\n",
      "\u001b[1m27/27\u001b[0m \u001b[32m━━━━━━━━━━━━━━━━━━━━\u001b[0m\u001b[37m\u001b[0m \u001b[1m8s\u001b[0m 307ms/step - accuracy: 0.5382 - loss: 0.6927 - val_accuracy: 0.4796 - val_loss: 0.6934\n",
      "Epoch 2/10\n",
      "\u001b[1m27/27\u001b[0m \u001b[32m━━━━━━━━━━━━━━━━━━━━\u001b[0m\u001b[37m\u001b[0m \u001b[1m8s\u001b[0m 307ms/step - accuracy: 0.4797 - loss: 0.6933 - val_accuracy: 0.4796 - val_loss: 0.6932\n",
      "Epoch 3/10\n",
      "\u001b[1m27/27\u001b[0m \u001b[32m━━━━━━━━━━━━━━━━━━━━\u001b[0m\u001b[37m\u001b[0m \u001b[1m8s\u001b[0m 306ms/step - accuracy: 0.5153 - loss: 0.6929 - val_accuracy: 0.4796 - val_loss: 0.6953\n",
      "Epoch 4/10\n",
      "\u001b[1m27/27\u001b[0m \u001b[32m━━━━━━━━━━━━━━━━━━━━\u001b[0m\u001b[37m\u001b[0m \u001b[1m8s\u001b[0m 307ms/step - accuracy: 0.5243 - loss: 0.6933 - val_accuracy: 0.4796 - val_loss: 0.6947\n",
      "Epoch 5/10\n",
      "\u001b[1m27/27\u001b[0m \u001b[32m━━━━━━━━━━━━━━━━━━━━\u001b[0m\u001b[37m\u001b[0m \u001b[1m9s\u001b[0m 319ms/step - accuracy: 0.5375 - loss: 0.6920 - val_accuracy: 0.4796 - val_loss: 0.6943\n",
      "Epoch 5: early stopping\n",
      "Restoring model weights from the end of the best epoch: 2.\n"
     ]
    }
   ],
   "source": [
    "history = model.fit(x_train, y_train_categorical, epochs=10, batch_size=32, validation_data=(x_val, y_val_categorical),callbacks=[early_stopping])"
   ]
  },
  {
   "cell_type": "markdown",
   "id": "1570e15e-d2df-4b01-a784-1c1ad7c93d81",
   "metadata": {},
   "source": [
    "### 2)\n",
    "\n",
    "    My model has an accuracy of approximately .5216 which means that the model is not fit very well. Some actions I took to address overfitting are simplifying the model by reducing the number of layers. This improved the accuracy. Another action I took was to utilize early stopping which prevents overfitting by stopping training when it no longer increases the accuracy of the model.\n",
    "\n",
    "### 3)\n",
    "    Visualizations of training process."
   ]
  },
  {
   "cell_type": "code",
   "execution_count": 12,
   "id": "a9fbcfee-279c-4c9f-b533-11828953e5f4",
   "metadata": {},
   "outputs": [
    {
     "data": {
      "image/png": "[encoded data removed]",
      "text/plain": [
       "<Figure size 720x360 with 2 Axes>"
      ]
     },
     "metadata": {
      "needs_background": "light"
     },
     "output_type": "display_data"
    }
   ],
   "source": [
    "# Plot training history\n",
    "def plot_training_history(history):\n",
    "    # Get training and validation metrics\n",
    "    loss = history.history['loss']\n",
    "    val_loss = history.history['val_loss']\n",
    "    accuracy = history.history['accuracy']\n",
    "    val_accuracy = history.history['val_accuracy']\n",
    "    \n",
    "    # Plot loss\n",
    "    plt.figure(figsize=(10, 5))\n",
    "    plt.subplot(1, 2, 1)\n",
    "    plt.plot(loss, label='Training Loss')\n",
    "    plt.plot(val_loss, label='Validation Loss')\n",
    "    plt.title('Training and Validation Loss')\n",
    "    plt.xlabel('Epoch')\n",
    "    plt.ylabel('Loss')\n",
    "    plt.legend()\n",
    "    \n",
    "    # Plot accuracy\n",
    "    plt.subplot(1, 2, 2)\n",
    "    plt.plot(accuracy, label='Training Accuracy')\n",
    "    plt.plot(val_accuracy, label='Validation Accuracy')\n",
    "    plt.title('Training and Validation Accuracy')\n",
    "    plt.xlabel('Epoch')\n",
    "    plt.ylabel('Accuracy')\n",
    "    plt.legend()\n",
    "    \n",
    "    plt.tight_layout()\n",
    "    plt.show()\n",
    "\n",
    "plot_training_history(history)\n"
   ]
  },
  {
   "cell_type": "markdown",
   "id": "5e903d01-9ce6-4e2d-91e0-ed6d2b7a750b",
   "metadata": {},
   "source": [
    "### 4)\n",
    "\n",
    "    The evaluation metric I chose is accuracy. This is defined as the number of correct predictions divided by the total number of predictions. The accuracy of this model is approximately .52.\n",
    "\n",
    "\n",
    "### E\n",
    "    \n",
    "    This will save the model to the filepath every time validation loss improves during training."
   ]
  },
  {
   "cell_type": "code",
   "execution_count": 13,
   "id": "ce04f86d-5632-4b9c-b716-80303c0f3ce5",
   "metadata": {},
   "outputs": [
    {
     "name": "stdout",
     "output_type": "stream",
     "text": [
      "Epoch 1/10\n",
      "\u001b[1m27/27\u001b[0m \u001b[32m━━━━━━━━━━━━━━━━━━━━\u001b[0m\u001b[37m\u001b[0m \u001b[1m0s\u001b[0m 260ms/step - accuracy: 0.5534 - loss: 0.6927\n",
      "Epoch 1: val_loss improved from inf to 0.69422, saving model to model_checkpoint.h5.keras\n",
      "\u001b[1m27/27\u001b[0m \u001b[32m━━━━━━━━━━━━━━━━━━━━\u001b[0m\u001b[37m\u001b[0m \u001b[1m8s\u001b[0m 311ms/step - accuracy: 0.5522 - loss: 0.6927 - val_accuracy: 0.4796 - val_loss: 0.6942\n",
      "Epoch 2/10\n",
      "\u001b[1m27/27\u001b[0m \u001b[32m━━━━━━━━━━━━━━━━━━━━\u001b[0m\u001b[37m\u001b[0m \u001b[1m0s\u001b[0m 259ms/step - accuracy: 0.5136 - loss: 0.6930\n",
      "Epoch 2: val_loss improved from 0.69422 to 0.69352, saving model to model_checkpoint.h5.keras\n",
      "\u001b[1m27/27\u001b[0m \u001b[32m━━━━━━━━━━━━━━━━━━━━\u001b[0m\u001b[37m\u001b[0m \u001b[1m8s\u001b[0m 309ms/step - accuracy: 0.5138 - loss: 0.6930 - val_accuracy: 0.4796 - val_loss: 0.6935\n",
      "Epoch 3/10\n",
      "\u001b[1m27/27\u001b[0m \u001b[32m━━━━━━━━━━━━━━━━━━━━\u001b[0m\u001b[37m\u001b[0m \u001b[1m0s\u001b[0m 259ms/step - accuracy: 0.5158 - loss: 0.6929\n",
      "Epoch 3: val_loss did not improve from 0.69352\n",
      "\u001b[1m27/27\u001b[0m \u001b[32m━━━━━━━━━━━━━━━━━━━━\u001b[0m\u001b[37m\u001b[0m \u001b[1m8s\u001b[0m 308ms/step - accuracy: 0.5159 - loss: 0.6929 - val_accuracy: 0.4796 - val_loss: 0.6948\n",
      "Epoch 4/10\n",
      "\u001b[1m27/27\u001b[0m \u001b[32m━━━━━━━━━━━━━━━━━━━━\u001b[0m\u001b[37m\u001b[0m \u001b[1m0s\u001b[0m 265ms/step - accuracy: 0.5187 - loss: 0.6922\n",
      "Epoch 4: val_loss did not improve from 0.69352\n",
      "\u001b[1m27/27\u001b[0m \u001b[32m━━━━━━━━━━━━━━━━━━━━\u001b[0m\u001b[37m\u001b[0m \u001b[1m8s\u001b[0m 315ms/step - accuracy: 0.5187 - loss: 0.6923 - val_accuracy: 0.4796 - val_loss: 0.6966\n",
      "Epoch 5/10\n",
      "\u001b[1m27/27\u001b[0m \u001b[32m━━━━━━━━━━━━━━━━━━━━\u001b[0m\u001b[37m\u001b[0m \u001b[1m0s\u001b[0m 261ms/step - accuracy: 0.5058 - loss: 0.6936\n",
      "Epoch 5: val_loss did not improve from 0.69352\n",
      "\u001b[1m27/27\u001b[0m \u001b[32m━━━━━━━━━━━━━━━━━━━━\u001b[0m\u001b[37m\u001b[0m \u001b[1m8s\u001b[0m 310ms/step - accuracy: 0.5063 - loss: 0.6936 - val_accuracy: 0.4796 - val_loss: 0.6947\n",
      "Epoch 6/10\n",
      "\u001b[1m27/27\u001b[0m \u001b[32m━━━━━━━━━━━━━━━━━━━━\u001b[0m\u001b[37m\u001b[0m \u001b[1m0s\u001b[0m 261ms/step - accuracy: 0.5197 - loss: 0.6925\n",
      "Epoch 6: val_loss did not improve from 0.69352\n",
      "\u001b[1m27/27\u001b[0m \u001b[32m━━━━━━━━━━━━━━━━━━━━\u001b[0m\u001b[37m\u001b[0m \u001b[1m8s\u001b[0m 310ms/step - accuracy: 0.5197 - loss: 0.6925 - val_accuracy: 0.4796 - val_loss: 0.6963\n",
      "Epoch 7/10\n",
      "\u001b[1m27/27\u001b[0m \u001b[32m━━━━━━━━━━━━━━━━━━━━\u001b[0m\u001b[37m\u001b[0m \u001b[1m0s\u001b[0m 260ms/step - accuracy: 0.5092 - loss: 0.6936\n",
      "Epoch 7: val_loss did not improve from 0.69352\n",
      "\u001b[1m27/27\u001b[0m \u001b[32m━━━━━━━━━━━━━━━━━━━━\u001b[0m\u001b[37m\u001b[0m \u001b[1m8s\u001b[0m 310ms/step - accuracy: 0.5095 - loss: 0.6935 - val_accuracy: 0.4796 - val_loss: 0.6974\n",
      "Epoch 8/10\n",
      "\u001b[1m27/27\u001b[0m \u001b[32m━━━━━━━━━━━━━━━━━━━━\u001b[0m\u001b[37m\u001b[0m \u001b[1m0s\u001b[0m 263ms/step - accuracy: 0.5034 - loss: 0.6948\n",
      "Epoch 8: val_loss did not improve from 0.69352\n",
      "\u001b[1m27/27\u001b[0m \u001b[32m━━━━━━━━━━━━━━━━━━━━\u001b[0m\u001b[37m\u001b[0m \u001b[1m8s\u001b[0m 312ms/step - accuracy: 0.5040 - loss: 0.6947 - val_accuracy: 0.4796 - val_loss: 0.6979\n",
      "Epoch 9/10\n",
      "\u001b[1m27/27\u001b[0m \u001b[32m━━━━━━━━━━━━━━━━━━━━\u001b[0m\u001b[37m\u001b[0m \u001b[1m0s\u001b[0m 262ms/step - accuracy: 0.4986 - loss: 0.6957\n",
      "Epoch 9: val_loss did not improve from 0.69352\n",
      "\u001b[1m27/27\u001b[0m \u001b[32m━━━━━━━━━━━━━━━━━━━━\u001b[0m\u001b[37m\u001b[0m \u001b[1m8s\u001b[0m 312ms/step - accuracy: 0.4994 - loss: 0.6956 - val_accuracy: 0.4796 - val_loss: 0.6974\n",
      "Epoch 10/10\n",
      "\u001b[1m27/27\u001b[0m \u001b[32m━━━━━━━━━━━━━━━━━━━━\u001b[0m\u001b[37m\u001b[0m \u001b[1m0s\u001b[0m 259ms/step - accuracy: 0.5192 - loss: 0.6931\n",
      "Epoch 10: val_loss did not improve from 0.69352\n",
      "\u001b[1m27/27\u001b[0m \u001b[32m━━━━━━━━━━━━━━━━━━━━\u001b[0m\u001b[37m\u001b[0m \u001b[1m8s\u001b[0m 307ms/step - accuracy: 0.5193 - loss: 0.6931 - val_accuracy: 0.4796 - val_loss: 0.6973\n"
     ]
    },
    {
     "data": {
      "text/plain": [
       "<keras.src.callbacks.history.History at 0x7822b06cab90>"
      ]
     },
     "execution_count": 13,
     "metadata": {},
     "output_type": "execute_result"
    }
   ],
   "source": [
    "from keras.callbacks import ModelCheckpoint\n",
    "# Define the filepath for saving the model\n",
    "filepath = \"model_checkpoint.h5.keras\"\n",
    "# Define the ModelCheckpoint callback\n",
    "checkpoint = ModelCheckpoint(filepath, monitor='val_loss', verbose=1, save_best_only=True, mode='min')\n",
    "\n",
    "# Assuming 'model' is your Keras model and you are using model.fit() for training\n",
    "# Include the checkpoint callback in the list of callbacks passed to model.fit()\n",
    "model.fit(x_train, y_train_categorical, validation_data=(x_val, y_val_categorical), epochs=10, batch_size=32, callbacks=[checkpoint])"
   ]
  },
  {
   "cell_type": "markdown",
   "id": "40e33305-eab8-4246-ba71-092eb5119b81",
   "metadata": {},
   "source": [
    "### F\n",
    "    The network architecture I chose for my neural network seemed to be the most suitable for binary classification. The sigmoid activation function, the binary cross-entropy loss function, the number of nodes in the dense layer, and a stop function based on accuracy, are all network architecture decisions that should have created a model that had a high accuracy when solving binary classification problems. However, the accuracy only reached about 50%. Based on the accuracy the functionality of my model is poor. My model only correctly predicts the sentiment of a review 50% of the time which is not useful. Given sufficient time for trial and error I think that this could be improved. \n",
    "\n",
    "\n",
    "### G\n",
    "\n",
    "     A course of action based on my results is to focus on acquiring more training data and adjusting the network architecture of the model. I think that 50% accuracy is unacceptable for production use. I would like to see at least 75% accuracy before the company can use this to predict the sentiment of user reviews. "
   ]
  }
 ],
 "metadata": {
  "kernelspec": {
   "display_name": "Python 3 (ipykernel)",
   "language": "python",
   "name": "python3"
  },
  "language_info": {
   "codemirror_mode": {
    "name": "ipython",
    "version": 3
   },
   "file_extension": ".py",
   "mimetype": "text/x-python",
   "name": "python",
   "nbconvert_exporter": "python",
   "pygments_lexer": "ipython3",
   "version": "3.10.12"
  }
 },
 "nbformat": 4,
 "nbformat_minor": 5
}
